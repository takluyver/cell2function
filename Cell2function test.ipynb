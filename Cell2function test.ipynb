{
 "metadata": {
  "name": "",
  "signature": "sha256:f7aab871d7b8fdd911817527048cb1ceb5e8fa72ace72213e2d08a1deee90cf6"
 },
 "nbformat": 3,
 "nbformat_minor": 0,
 "worksheets": [
  {
   "cells": [
    {
     "cell_type": "code",
     "collapsed": false,
     "input": [
      "a=1\n",
      "z=\"hi\"\n",
      "y=True\n",
      "x = 6\n",
      "u = 4"
     ],
     "language": "python",
     "metadata": {},
     "outputs": [],
     "prompt_number": 1
    },
    {
     "cell_type": "code",
     "collapsed": false,
     "input": [
      "%load_ext cell2function"
     ],
     "language": "python",
     "metadata": {},
     "outputs": [],
     "prompt_number": 2
    },
    {
     "cell_type": "code",
     "collapsed": false,
     "input": [
      "%%makefunction\n",
      "b=2\n",
      "def subfunc(c=1, d=z):\n",
      "    e = 99\n",
      "    print(y)\n",
      "a = a*2\n",
      "x += 1"
     ],
     "language": "python",
     "metadata": {},
     "outputs": [],
     "prompt_number": 3
    },
    {
     "cell_type": "code",
     "collapsed": false,
     "input": [
      "def unnamed(z, y, a, x)\n",
      "    b=2\n",
      "    def subfunc(c=1, d=z):\n",
      "        e = 99\n",
      "        print(y)\n",
      "    a = a*2\n",
      "    x += 1\n",
      "    return b, subfunc, a, x"
     ],
     "language": "python",
     "metadata": {},
     "outputs": []
    },
    {
     "cell_type": "code",
     "collapsed": false,
     "input": [],
     "language": "python",
     "metadata": {},
     "outputs": []
    }
   ],
   "metadata": {}
  }
 ]
}